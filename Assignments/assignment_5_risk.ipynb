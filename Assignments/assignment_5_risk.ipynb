{
 "cells": [
  {
   "cell_type": "markdown",
   "metadata": {},
   "source": [
    "# Assignment 5 - Risk\n",
    "----\n",
    "Risk\n",
    "I love the board game Risk.Write a program (or notebook) called assignment_5_risk (.py or .ipynb)\n",
    "\n",
    "The program should simulates 1000 individual battle rounds in Risk (3 attacker vs 2 defender) and plots the result.\n",
    "\n",
    "One battle round is one shake of the attacker and defender dice.\n",
    "\n",
    "I am being vague about what it plot, I will leave that to you.\n",
    "\n",
    "\n",
    "=For the last few marks.=\n",
    "\n",
    "A more complicated version simulates a full series of rounds for armies of arbitrary sizes, until one side is wiped out,\n",
    "\n",
    "and plots the results.(This is open ended, so it is only for the last few marks)"
   ]
  },
  {
   "cell_type": "markdown",
   "metadata": {},
   "source": [
    "**Rules of Risk**\n",
    "\n",
    "In Risk one army fights another. (using 6 sided dice)\n",
    "\n",
    "In each battle round, the attacker can put forward up to three of their troops (3 dice).\n",
    "\n",
    "The defender can use up to two of their defending troops (2 dice).\n",
    "\n",
    "Each side looses troops depending on the following rules:\n",
    "\n",
    "The two top dice dice are compared (ie the attackers top dice roll with the defenders top dice roll) \n",
    "If the attackers dice is the same or lower they loose one troop otherwise the defender looses a troop (ie if the attackers dice is higher)\n",
    "The next two highest dice from each side are then compared (ie the attackers second highest to the defenders second highest)\n",
    "If the attackers dice is the same or lower they loose one troop otherwise the defender looses a troop (ie if the attackers dice is higher)\n",
    "\n",
    "\n",
    "Examples\n",
    "Attacker rolls\tDefender Rolls\tAttacker Loses\tDefender Loses\tExplanation\n",
    "6,4,1\t5,3\t0\t2\t6 beats 5 and 4 beats 3 (the one is ignored as the lowest)\n",
    "6,6,6\t6,3\t1\t1\tDefenders 6 beats the attackers first 6\n",
    "and the attackers second 6 beats the defenders 3\n",
    "5,4,4\t5,4\t2\t0\tThe defenders 5 beat the attackers 5\n",
    "and the defenders 4 beat the attackers 4\n",
    "(defender wins when the dice are the same)\n",
    "\n",
    "See the rules How to play Risk | Official Rules | UltraBoardGames\n",
    "search \"to decide a battle\"."
   ]
  },
  {
   "cell_type": "code",
   "execution_count": 1,
   "metadata": {},
   "outputs": [],
   "source": [
    "import numpy as np"
   ]
  },
  {
   "cell_type": "code",
   "execution_count": 2,
   "metadata": {},
   "outputs": [],
   "source": [
    "dice = np.array([1, 2, 3, 4, 5, 6]) \n",
    "#attackers = np.array([[1, 2, 3, 4, 5, 6],[1,2,3,4,5,6], [1,2,3,4,5,6]]) \n",
    "#defenders = np.array([[1, 2, 3, 4, 5, 6],[1,2,3,4,5,6]]) "
   ]
  },
  {
   "cell_type": "code",
   "execution_count": 10,
   "metadata": {},
   "outputs": [
    {
     "name": "stdout",
     "output_type": "stream",
     "text": [
      "[4 4]\n",
      "[6 4 1]\n",
      "6\n",
      "4\n",
      "[6, 4.0]\n",
      "[array([2., 0.])]\n"
     ]
    }
   ],
   "source": [
    "rng = np.random.default_rng()\n",
    "\n",
    "#input_array_1d = np.array([1, 2, 3, 4, 5, 6])\n",
    "#rng.choice(input_array_1d, size=3, replace=False)\n",
    "\n",
    "defenders= rng.choice(dice, size=(2)) # roll dice 2 times\n",
    "# defenders= rng.choice(dice, size=(1000,2))\n",
    "attackers= rng.choice(dice, size=(3)) # roll dice 3 times.\n",
    "print(defenders)\n",
    "print(attackers)\n",
    "\n",
    "a= np.max(attackers)\n",
    "b= np.min(attackers)\n",
    "c= np.median(attackers)\n",
    "print(a)\n",
    "print(int(c))\n",
    "attackers=[a,c]\n",
    "print(attackers)\n",
    "\n",
    "result = [attackers-defenders]\n",
    "print(result)\n",
    "\n",
    "\n",
    "#c = np.where(attackers > b), np.where(attackers <= a)\n",
    "# print(np.where(attackers > np.min(attackers)))\n",
    "\n",
    "#attackers.max()\n",
    "#filtered_scores = attackers[0:-1]\n",
    "#filtered_scores.shape\n",
    "#print(filtered_scores)\n",
    "\n",
    "#filtered_scores.max()\n"
   ]
  },
  {
   "cell_type": "code",
   "execution_count": null,
   "metadata": {},
   "outputs": [],
   "source": []
  },
  {
   "cell_type": "markdown",
   "metadata": {},
   "source": [
    "https://realpython.com/numpy-random-number-generator/#selecting-array-elements-randomly\n",
    "https://realpython.com/numpy-max-maximum/#using-max\n"
   ]
  },
  {
   "cell_type": "markdown",
   "metadata": {},
   "source": []
  },
  {
   "cell_type": "markdown",
   "metadata": {},
   "source": []
  },
  {
   "cell_type": "markdown",
   "metadata": {},
   "source": []
  },
  {
   "cell_type": "markdown",
   "metadata": {},
   "source": []
  },
  {
   "cell_type": "markdown",
   "metadata": {},
   "source": []
  },
  {
   "cell_type": "markdown",
   "metadata": {},
   "source": []
  },
  {
   "cell_type": "markdown",
   "metadata": {},
   "source": []
  }
 ],
 "metadata": {
  "kernelspec": {
   "display_name": "base",
   "language": "python",
   "name": "python3"
  },
  "language_info": {
   "codemirror_mode": {
    "name": "ipython",
    "version": 3
   },
   "file_extension": ".py",
   "mimetype": "text/x-python",
   "name": "python",
   "nbconvert_exporter": "python",
   "pygments_lexer": "ipython3",
   "version": "3.11.5"
  }
 },
 "nbformat": 4,
 "nbformat_minor": 2
}
