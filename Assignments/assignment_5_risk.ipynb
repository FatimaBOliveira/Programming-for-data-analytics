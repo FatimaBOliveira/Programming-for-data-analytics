{
 "cells": [
  {
   "cell_type": "markdown",
   "metadata": {},
   "source": [
    "# Assignment 5 - Risk\n",
    "----\n",
    "\n",
    "The program should simulates 1000 individual battle rounds in Risk (3 attacker vs 2 defender) and plots the result. One battle round is one shake of the attacker and defender dice.\n"
   ]
  },
  {
   "cell_type": "markdown",
   "metadata": {},
   "source": [
    "**Rules of Risk**\n",
    "\n",
    "In Risk one army fights another. (using 6 sided dice). In each battle round, the attacker can put forward up to three of their troops (3 dice). The defender can use up to two of their defending troops (2 dice).\n",
    "\n",
    "Each side looses troops depending on the following rules:\n",
    "\n",
    "The two top dice dice are compared (ie the attackers top dice roll with the defenders top dice roll). If the attackers dice is the same or lower they loose one troop otherwise the defender looses a troop (ie if the attackers dice is higher). The next two highest dice from each side are then compared (ie the attackers second highest to the defenders second highest). If the attackers dice is the same or lower they loose one troop otherwise the defender looses a troop (ie if the attackers dice is higher)\n",
    "\n",
    "\n",
    "Examples:\n",
    "\n",
    "Round|Attacker|Defender|Score|\n",
    "|----|--------|--------|-----|\n",
    "| 1  |6__4__1 |5______3|0___2|\t\n",
    "| 2  |6__6__6 |6______3|1___1|\t\n",
    "| 3  |5__4__4 |5______4|2___0|\n",
    "\n",
    "Explanation:\n",
    "- Round 1: 6 beats 5 and 4 beats 3 (the one is ignored as the lowest)\n",
    "- Round 2: Defenders 6 beats the attackers first 6 and the attackers second 6 beats the defenders 3\n",
    "- Round 3: The defenders 5 beat the attackers 5 and the defenders 4 beat the attackers 4 (defender wins when the dice are the same)"
   ]
  },
  {
   "cell_type": "markdown",
   "metadata": {},
   "source": [
    "This notebook can be run in the following link:\n",
    "<a target=\"_blank\" href=\"https://colab.research.google.com/github/FatimaBOliveira/Programming-for-data-analytics/blob/main/Assignments/assignment_5_risk.ipynb\">\n",
    "  <img src=\"https://colab.research.google.com/assets/colab-badge.svg\" alt=\"Open In Colab\"/>\n",
    "</a>\n"
   ]
  },
  {
   "cell_type": "code",
   "execution_count": 1,
   "metadata": {},
   "outputs": [],
   "source": [
    "import numpy as np"
   ]
  },
  {
   "cell_type": "code",
   "execution_count": 2,
   "metadata": {},
   "outputs": [],
   "source": [
    "dice = np.array([1, 2, 3, 4, 5, 6]) "
   ]
  },
  {
   "cell_type": "code",
   "execution_count": null,
   "metadata": {},
   "outputs": [
    {
     "data": {
      "text/plain": [
       "'\\nimport random\\nrng = np.random.default_rng()\\n\\nfinal_attacker = 0\\nfinal_defenders = 0\\ndefenders= rng.choice(dice, size=(2)) # roll dice 2 times\\nattackers= rng.choice(dice, size=(3)) # roll dice 3 times.\\na_high= np.max(attackers)\\na_2high= np.median(attackers)\\nd_high= np.max(defenders)\\nd_2high= np.min(defenders)\\nresult1 = a_high-d_high\\nresult2 = a_2high-d_2high\\n\\n\\n\\ndef risk(result1, result2, final_attacker, final_defenders):\\n    if result1 == 0 and result2==0:\\n        print(\"Defenders, 2 points.\")\\n        final_defenders +=2\\n    elif result1 == 0 and result2 < 0 or result2 == 0 and result1 < 0:\\n        print(\"Defenders, 2 points.\")\\n        final_defenders +=2\\n    elif result1 == 0 and result2 > 0 or result2 == 0 and result1 > 0:\\n        print(\"Defender, 1 point, Attacker, 1 point.\")\\n        final_defenders +=1\\n        final_attacker +=1\\n    elif result1 > 0 and result2 > 0:\\n        print(\"Attacker, 2 points.\")\\n        final_attacker +=2\\n    elif result1 > 0 and result2 < 0:\\n        print(\"Attacker, 1 point, Defender, 1 point\\'\")\\n        final_defenders +=1\\n        final_attacker +=1\\n    elif result1 < 0 and result2 > 0:\\n        print(\"Defender, 1 point, Attacker, 1 point.\")\\n        final_defenders +=1\\n        final_attacker +=1\\n    else:  # both results are <0.\\n        print(\"Defenders, 2 points.\")\\n        final_defenders +=2\\n    return result1, result2, final_defenders, final_attacker\\n\\n\\ndef battle():\\n    defenders= rng.choice(dice, size=(2)) # roll dice 2 times\\n    attackers= rng.choice(dice, size=(3)) # roll dice 3 times.\\n    print(attackers)\\n    print(defenders)\\n    a_high= np.max(attackers)\\n    a_2high= int(np.median(attackers))\\n    d_high= np.max(defenders)\\n    d_2high= np.min(defenders)\\n    result1 = a_high-d_high\\n    result2 = a_2high-d_2high\\n    print(result1)\\n    print(result2)\\n    return risk(result1,result2, final_attacker, final_defenders)\\n\\n\\n\\nfor n in range(1000):\\n    battle()\\n    #print(battle())\\n'"
      ]
     },
     "execution_count": 10,
     "metadata": {},
     "output_type": "execute_result"
    }
   ],
   "source": [
    "import random\n",
    "rng = np.random.default_rng()\n",
    "\n",
    "final_attacker = 0\n",
    "final_defenders = 0\n",
    "defenders= rng.choice(dice, size=(2)) # roll dice 2 times\n",
    "attackers= rng.choice(dice, size=(3)) # roll dice 3 times.\n",
    "a_high= np.max(attackers)\n",
    "a_2high= np.median(attackers)\n",
    "d_high= np.max(defenders)\n",
    "d_2high= np.min(defenders)\n",
    "result1 = a_high-d_high\n",
    "result2 = a_2high-d_2high\n",
    "\n",
    "\n",
    "\n",
    "def risk(result1, result2, final_attacker, final_defenders):\n",
    "    if result1 == 0 and result2==0:\n",
    "        print(\"Defenders, 2 points.\")\n",
    "        final_defenders +=2\n",
    "    elif result1 == 0 and result2 < 0 or result2 == 0 and result1 < 0:\n",
    "        print(\"Defenders, 2 points.\")\n",
    "        final_defenders +=2\n",
    "    elif result1 == 0 and result2 > 0 or result2 == 0 and result1 > 0:\n",
    "        print(\"Defender, 1 point, Attacker, 1 point.\")\n",
    "        final_defenders +=1\n",
    "        final_attacker +=1\n",
    "    elif result1 > 0 and result2 > 0:\n",
    "        print(\"Attacker, 2 points.\")\n",
    "        final_attacker +=2\n",
    "    elif result1 > 0 and result2 < 0:\n",
    "        print(\"Attacker, 1 point, Defender, 1 point'\")\n",
    "        final_defenders +=1\n",
    "        final_attacker +=1\n",
    "    elif result1 < 0 and result2 > 0:\n",
    "        print(\"Defender, 1 point, Attacker, 1 point.\")\n",
    "        final_defenders +=1\n",
    "        final_attacker +=1\n",
    "    else:  # both results are <0.\n",
    "        print(\"Defenders, 2 points.\")\n",
    "        final_defenders +=2\n",
    "    return result1, result2, final_defenders, final_attacker\n",
    "\n",
    "\n",
    "def battle():\n",
    "    defenders= rng.choice(dice, size=(2)) # roll dice 2 times\n",
    "    attackers= rng.choice(dice, size=(3)) # roll dice 3 times.\n",
    "    print(attackers)\n",
    "    print(defenders)\n",
    "    a_high= np.max(attackers)\n",
    "    a_2high= int(np.median(attackers))\n",
    "    d_high= np.max(defenders)\n",
    "    d_2high= np.min(defenders)\n",
    "    result1 = a_high-d_high\n",
    "    result2 = a_2high-d_2high\n",
    "    print(result1)\n",
    "    print(result2)\n",
    "    return risk(result1,result2, final_attacker, final_defenders)\n",
    "\n",
    "\n",
    "\n",
    "for n in range(1000):\n",
    "    battle()\n",
    "    #print(battle())\n"
   ]
  },
  {
   "cell_type": "code",
   "execution_count": null,
   "metadata": {},
   "outputs": [
    {
     "data": {
      "text/plain": [
       "'\\n# User to choose team sizes and number of battles.\\n\\nna= int(input(\"Number of attackers: \"))\\nnd= int(input(\"Number of defenders: \"))\\n\\n\\ndef randombattle():\\n    attackers= rng.choice(dice, size=(na))\\n    defenders= rng.choice(dice, size=(nd))\\n    print(attackers)\\n    print(defenders)\\n    a_1= np.max(attackers)\\n    a_2= second_largest(attackers) \\n    d_1= np.max(defenders)\\n    d_2= second_largest(defenders)\\n    randomresult1 = a_1-d_1\\n    randomresult2 = a_2-d_2\\n    print(randomresult1)\\n    print(randomresult2)\\n    return risk(randomresult1,randomresult2, final_attacker, final_defenders)\\n\\n\\ndef second_largest(attackers):\\n    minimum = float(\\'-inf\\')\\n    first, second = minimum, minimum\\n    for n in attackers:\\n        if n >= first:\\n            first, second = n, first\\n        elif first > n > second:\\n            second = n\\n    return second if second != minimum else None\\n\\n\\ndef second_largest(defenders):\\n    minimum = float(\\'-inf\\')\\n    first, second = minimum, minimum\\n    for n in defenders:\\n        if n >= first:\\n            first, second = n, first\\n        elif first > n > second:\\n            second = n\\n    return second if second != minimum else None\\n\\nnumber_battles= int(input(\"Number of battles: \"))\\n\\nfor n in range(number_battles):\\n    randombattle()\\n    #print(randombattle())\\n'"
      ]
     },
     "execution_count": 11,
     "metadata": {},
     "output_type": "execute_result"
    }
   ],
   "source": [
    "# User to choose team sizes and number of battles.\n",
    "\n",
    "na= int(input(\"Number of attackers: \"))\n",
    "nd= int(input(\"Number of defenders: \"))\n",
    "\n",
    "\n",
    "def randombattle():\n",
    "    attackers= rng.choice(dice, size=(na))\n",
    "    defenders= rng.choice(dice, size=(nd))\n",
    "    print(attackers)\n",
    "    print(defenders)\n",
    "    a_1= np.max(attackers)\n",
    "    a_2= second_largest(attackers) \n",
    "    d_1= np.max(defenders)\n",
    "    d_2= second_largest(defenders)\n",
    "    randomresult1 = a_1-d_1\n",
    "    randomresult2 = a_2-d_2\n",
    "    print(randomresult1)\n",
    "    print(randomresult2)\n",
    "    return risk(randomresult1,randomresult2, final_attacker, final_defenders)\n",
    "\n",
    "\n",
    "def second_largest(attackers):\n",
    "    minimum = float('-inf')\n",
    "    first, second = minimum, minimum\n",
    "    for n in attackers:\n",
    "        if n >= first:\n",
    "            first, second = n, first\n",
    "        elif first > n > second:\n",
    "            second = n\n",
    "    return second if second != minimum else None\n",
    "\n",
    "\n",
    "def second_largest(defenders):\n",
    "    minimum = float('-inf')\n",
    "    first, second = minimum, minimum\n",
    "    for n in defenders:\n",
    "        if n >= first:\n",
    "            first, second = n, first\n",
    "        elif first > n > second:\n",
    "            second = n\n",
    "    return second if second != minimum else None\n",
    "\n",
    "number_battles= int(input(\"Number of battles: \"))\n",
    "\n",
    "for n in range(number_battles):\n",
    "    randombattle()\n",
    "    #print(randombattle())"
   ]
  },
  {
   "cell_type": "markdown",
   "metadata": {},
   "source": [
    "https://stackoverflow.com/questions/21598713/repeating-a-function-in-python\n",
    "\n",
    "https://realpython.com/numpy-random-number-generator/#selecting-array-elements-randomly\n",
    "\n",
    "https://realpython.com/numpy-max-maximum/#using-max\n",
    "\n",
    "https://www.quora.com/How-do-I-repeat-a-function-in-Python\n",
    "\n",
    "https://stackoverflow.com/questions/74795154/how-to-add-points-to-a-player-in-python\n",
    "\n",
    "https://stackoverflow.com/questions/16225677/get-the-second-largest-number-in-a-list-in-linear-time"
   ]
  },
  {
   "cell_type": "markdown",
   "metadata": {},
   "source": []
  }
 ],
 "metadata": {
  "kernelspec": {
   "display_name": "base",
   "language": "python",
   "name": "python3"
  },
  "language_info": {
   "codemirror_mode": {
    "name": "ipython",
    "version": 3
   },
   "file_extension": ".py",
   "mimetype": "text/x-python",
   "name": "python",
   "nbconvert_exporter": "python",
   "pygments_lexer": "ipython3",
   "version": "3.11.5"
  }
 },
 "nbformat": 4,
 "nbformat_minor": 2
}
