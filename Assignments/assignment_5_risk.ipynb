{
 "cells": [
  {
   "cell_type": "markdown",
   "metadata": {},
   "source": [
    "# Assignment 5 - Risk\n",
    "---\n",
    "Risk is a program that simulates 1000 individual battle rounds, where team attacker is composed with 3 dice and team defender with 2. The dice has 6 sides.\n",
    "\n",
    "In the second part of this program, the user can choose the number of battle rounds between attacker and defender, and also determinate the size of both teams.\n",
    "\n",
    "**Rules of Risk**\n",
    "\n",
    "In each battle round, the two top dice dice are compared, the attackers top dice roll with the defenders top dice. If the attackers dice is the same or lower, they loose that round, otherwise the defender looses. For the next round, the two highest dice from each side fight and same rule is applied.\n",
    "\n",
    "Examples:\n",
    "\n",
    "Round 1|Attacker: 6,4,1|Defender: 5,3|Score: 0,2| \n",
    "6 beats 5 and 4 beats 3 (the one is ignored as the lowest).\n",
    "\n",
    "Round 2|Attacker: 6,6,6|Defender: 6,3|Score: 1,1| \n",
    "Defenders 6 beats the attackers first 6 and the attackers second 6 beats the defenders 3.\n",
    "\n",
    "Round 3|Attacker: 5,4,4|Defender: 5,4|Score: 2,0| \n",
    "The defenders 5 beat the attackers 5 and the defenders 4 beat the attackers 4 (defender wins when the dice are the same)."
   ]
  },
  {
   "cell_type": "markdown",
   "metadata": {},
   "source": [
    "This notebook can be run in the following link:\n",
    "<a target=\"_blank\" href=\"https://colab.research.google.com/github/FatimaBOliveira/Programming-for-data-analytics/blob/main/Assignments/assignment_5_risk.ipynb\">\n",
    "  <img src=\"https://colab.research.google.com/assets/colab-badge.svg\" alt=\"Open In Colab\"/>\n",
    "</a>\n"
   ]
  },
  {
   "cell_type": "code",
   "execution_count": 1,
   "metadata": {},
   "outputs": [],
   "source": [
    "# Import libraries.\n",
    "import numpy as np\n",
    "import random"
   ]
  },
  {
   "cell_type": "code",
   "execution_count": 2,
   "metadata": {},
   "outputs": [],
   "source": [
    "# Dice has 6 sides.\n",
    "dice = np.array([1, 2, 3, 4, 5, 6]) "
   ]
  },
  {
   "cell_type": "code",
   "execution_count": null,
   "metadata": {},
   "outputs": [],
   "source": [
    "# Random choice in both teams.\n",
    "rng = np.random.default_rng()\n",
    "\n",
    "# Definition of the battle round.\n",
    "def battle():\n",
    "    attackers= rng.choice(dice, size=(3))\n",
    "    defenders= rng.choice(dice, size=(2))\n",
    "    print(attackers)\n",
    "    print(defenders)\n",
    "    a_high= np.max(attackers)\n",
    "    a_2high= second_highest(attackers)\n",
    "    d_high= np.max(defenders)\n",
    "    d_2high= second_highest(defenders)\n",
    "    result1 = a_high-d_high\n",
    "    result2 = a_2high-d_2high\n",
    "    print(result1)\n",
    "    print(result2)\n",
    "    return risk(result1,result2)\n",
    "\n",
    "# The second highest attacker dice.\n",
    "def second_highest(attackers):\n",
    "    minimum = float(\"-inf\")\n",
    "    first, second = minimum, minimum\n",
    "    for n in attackers:\n",
    "        if n >= first:\n",
    "            first, second = n, first\n",
    "        elif first > n > second:\n",
    "            second = n\n",
    "    return second if second != minimum else None\n",
    "\n",
    "# The second highest defender dice.\n",
    "def second_highest(defenders):\n",
    "    minimum = float(\"-inf\")\n",
    "    first, second = minimum, minimum\n",
    "    for n in defenders:\n",
    "        if n >= first:\n",
    "            first, second = n, first\n",
    "        elif first > n > second:\n",
    "            second = n\n",
    "    return second if second != minimum else None\n",
    "\n",
    "# Points system.\n",
    "def risk(result1, result2):\n",
    "    if result1 == 0 and result2==0:\n",
    "        print(\"Defenders, 2 points.\")\n",
    "    elif result1 == 0 and result2 < 0 or result2 == 0 and result1 < 0:\n",
    "        print(\"Defenders, 2 points.\")\n",
    "    elif result1 == 0 and result2 > 0 or result2 == 0 and result1 > 0:\n",
    "        print(\"Defender, 1 point, Attacker, 1 point.\")\n",
    "    elif result1 > 0 and result2 > 0:\n",
    "        print(\"Attacker, 2 points.\")\n",
    "    elif result1 > 0 and result2 < 0:\n",
    "        print(\"Attacker, 1 point, Defender, 1 point.\")\n",
    "    elif result1 < 0 and result2 > 0:\n",
    "        print(\"Defender, 1 point, Attacker, 1 point.\")\n",
    "    else:  # both results are <0.\n",
    "        print(\"Defenders, 2 points.\")\n",
    "    return result1, result2\n",
    "\n",
    "# Simulate 1000 battle round.\n",
    "for n in range(1000):\n",
    "    battle()\n",
    "\n",
    "\n",
    "# https://realpython.com/numpy-random-number-generator/#selecting-array-elements-randomly\n",
    "# https://stackoverflow.com/questions/16225677/get-the-second-largest-number-in-a-list-in-linear-time\n",
    "# https://www.quora.com/How-do-I-repeat-a-function-in-Python"
   ]
  },
  {
   "cell_type": "code",
   "execution_count": null,
   "metadata": {},
   "outputs": [],
   "source": [
    "### Part 2: User to choose team sizes and number of battles.\n",
    "\n",
    "# Team sizes.\n",
    "na= int(input(\"Number of attackers: \"))\n",
    "nd= int(input(\"Number of defenders: \"))\n",
    "\n",
    "# Definition of battle round, with random team sizes.\n",
    "def randombattle():\n",
    "    attackers= rng.choice(dice, size=(na))\n",
    "    defenders= rng.choice(dice, size=(nd))\n",
    "    print(attackers)\n",
    "    print(defenders)\n",
    "    a_high= np.max(attackers)\n",
    "    a_2high= second_highest(attackers) \n",
    "    d_high= np.max(defenders)\n",
    "    d_2high= second_highest(defenders)\n",
    "    result1 = a_high-d_high\n",
    "    result2 = a_2high-d_2high\n",
    "    print(result1)\n",
    "    print(result2)\n",
    "    return risk(result1,result2)\n",
    "\n",
    "# Number of battles.\n",
    "number_battles= int(input(\"Number of battles: \"))\n",
    "\n",
    "# Check the results.\n",
    "for n in range(number_battles):\n",
    "    randombattle()"
   ]
  },
  {
   "cell_type": "markdown",
   "metadata": {},
   "source": [
    "___\n",
    "## End"
   ]
  }
 ],
 "metadata": {
  "kernelspec": {
   "display_name": "base",
   "language": "python",
   "name": "python3"
  },
  "language_info": {
   "codemirror_mode": {
    "name": "ipython",
    "version": 3
   },
   "file_extension": ".py",
   "mimetype": "text/x-python",
   "name": "python",
   "nbconvert_exporter": "python",
   "pygments_lexer": "ipython3",
   "version": "3.11.5"
  }
 },
 "nbformat": 4,
 "nbformat_minor": 2
}
