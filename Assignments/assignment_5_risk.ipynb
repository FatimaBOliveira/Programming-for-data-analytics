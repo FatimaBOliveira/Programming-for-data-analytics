{
 "cells": [
  {
   "cell_type": "markdown",
   "metadata": {},
   "source": [
    "# Assignment 5 - Risk\n",
    "----\n",
    "Risk\n",
    "I love the board game Risk.Write a program (or notebook) called assignment_5_risk (.py or .ipynb)\n",
    "\n",
    "The program should simulates 1000 individual battle rounds in Risk (3 attacker vs 2 defender) and plots the result.\n",
    "\n",
    "One battle round is one shake of the attacker and defender dice.\n",
    "\n",
    "I am being vague about what it plot, I will leave that to you.\n",
    "\n",
    "\n",
    "=For the last few marks.=\n",
    "\n",
    "A more complicated version simulates a full series of rounds for armies of arbitrary sizes, until one side is wiped out,\n",
    "\n",
    "and plots the results.(This is open ended, so it is only for the last few marks)"
   ]
  },
  {
   "cell_type": "markdown",
   "metadata": {},
   "source": [
    "**Rules of Risk**\n",
    "\n",
    "In Risk one army fights another. (using 6 sided dice)\n",
    "\n",
    "In each battle round, the attacker can put forward up to three of their troops (3 dice).\n",
    "\n",
    "The defender can use up to two of their defending troops (2 dice).\n",
    "\n",
    "Each side looses troops depending on the following rules:\n",
    "\n",
    "The two top dice dice are compared (ie the attackers top dice roll with the defenders top dice roll) \n",
    "If the attackers dice is the same or lower they loose one troop otherwise the defender looses a troop (ie if the attackers dice is higher)\n",
    "The next two highest dice from each side are then compared (ie the attackers second highest to the defenders second highest)\n",
    "If the attackers dice is the same or lower they loose one troop otherwise the defender looses a troop (ie if the attackers dice is higher)\n",
    "\n",
    "\n",
    "Examples\n",
    "Attacker rolls\tDefender Rolls\tAttacker Loses\tDefender Loses\tExplanation\n",
    "6,4,1\t5,3\t0\t2\t6 beats 5 and 4 beats 3 (the one is ignored as the lowest)\n",
    "6,6,6\t6,3\t1\t1\tDefenders 6 beats the attackers first 6\n",
    "and the attackers second 6 beats the defenders 3\n",
    "5,4,4\t5,4\t2\t0\tThe defenders 5 beat the attackers 5\n",
    "and the defenders 4 beat the attackers 4\n",
    "(defender wins when the dice are the same)\n",
    "\n",
    "See the rules How to play Risk | Official Rules | UltraBoardGames\n",
    "search \"to decide a battle\"."
   ]
  },
  {
   "cell_type": "code",
   "execution_count": 1,
   "metadata": {},
   "outputs": [],
   "source": [
    "import numpy as np"
   ]
  },
  {
   "cell_type": "code",
   "execution_count": 2,
   "metadata": {},
   "outputs": [],
   "source": [
    "dice = np.array([1, 2, 3, 4, 5, 6]) "
   ]
  },
  {
   "cell_type": "code",
   "execution_count": 3,
   "metadata": {},
   "outputs": [
    {
     "name": "stdout",
     "output_type": "stream",
     "text": [
      "[3 5]\n",
      "[4 4 6]\n",
      "1\n",
      "1.0\n"
     ]
    }
   ],
   "source": [
    "rng = np.random.default_rng()\n",
    "\n",
    "#input_array_1d = np.array([1, 2, 3, 4, 5, 6])\n",
    "#rng.choice(input_array_1d, size=3, replace=False)\n",
    "\n",
    "defenders= rng.choice(dice, size=(2)) # roll dice 2 times\n",
    "# defenders= rng.choice(dice, size=(1000,2))\n",
    "attackers= rng.choice(dice, size=(3)) # roll dice 3 times.\n",
    "print(defenders)\n",
    "print(attackers)\n",
    "\n",
    "a_high= np.max(attackers)\n",
    "a_low= np.min(attackers)\n",
    "a_2high= np.median(attackers)\n",
    "#attackers =[a_high,a_2high]\n",
    "\n",
    "d_high= np.max(defenders)\n",
    "d_2high= np.min(defenders)\n",
    "\n",
    "\n",
    "result1 = a_high-d_high\n",
    "result2 = a_2high-d_2high\n",
    "print(result1)\n",
    "print(result2)"
   ]
  },
  {
   "cell_type": "code",
   "execution_count": 4,
   "metadata": {},
   "outputs": [
    {
     "name": "stdout",
     "output_type": "stream",
     "text": [
      "Attacker, 2 points.\n",
      "(1, 1.0)\n"
     ]
    }
   ],
   "source": [
    "def risk(result1, result2):\n",
    "    if result1 == 0 and result2==0:\n",
    "        print(\"Defenders, 2 points.\")\n",
    "    elif result1 == 0 and result2 < 0 or result2 == 0 and result1 < 0:\n",
    "        print(\"Defenders, 2 points.\")\n",
    "    elif result1 == 0 and result2 > 0 or result2 == 0 and result1 > 0:\n",
    "        print(\"Defender, 1 point, Attacker, 1 point.\")\n",
    "    elif result1 > 0 and result2 > 0:\n",
    "        print(\"Attacker, 2 points.\")\n",
    "    elif result1 > 0 and result2 < 0:\n",
    "        print(\"Attacker, 1 point, Defender, 1 point\")\n",
    "    elif result1 < 0 and result2 > 0:\n",
    "        print(\"Defender, 1 point, Attacker, 1 point\")\n",
    "    else:  # both results are <0.\n",
    "        print(\"Defenders, 2 points.\")\n",
    "    return result1, result2\n",
    "\n",
    "defenders_results= risk\n",
    "print(risk(result1, result2))\n"
   ]
  },
  {
   "cell_type": "code",
   "execution_count": 5,
   "metadata": {},
   "outputs": [
    {
     "name": "stdout",
     "output_type": "stream",
     "text": [
      "[5 3 2]\n",
      "[6 4]\n",
      "Defenders, 2 points.\n",
      "-1\n",
      "-1.0\n",
      "[1 3 6]\n",
      "[3 6]\n",
      "Defenders, 2 points.\n",
      "(0, 0.0)\n"
     ]
    }
   ],
   "source": [
    "rng = np.random.default_rng()\n",
    "\n",
    "import random\n",
    "\n",
    "def battle():\n",
    "    defenders= rng.choice(dice, size=(2)) # roll dice 2 times\n",
    "    attackers= rng.choice(dice, size=(3)) # roll dice 3 times.\n",
    "    print(attackers)\n",
    "    print(defenders)\n",
    "    a_high= np.max(attackers)\n",
    "    a_2high= np.median(attackers)\n",
    "    d_high= np.max(defenders)\n",
    "    d_2high= np.min(defenders)\n",
    "    result1 = a_high-d_high\n",
    "    result2 = a_2high-d_2high\n",
    "    #print(result1)\n",
    "    #print(result2)\n",
    "    return risk(result1,result2)\n",
    "\n",
    "for sequence in battle():\n",
    "   print(sequence, end=\"\\n\")\n",
    "\n",
    "print(battle())\n",
    "#print (risk(result1,result2))"
   ]
  },
  {
   "cell_type": "markdown",
   "metadata": {},
   "source": []
  }
 ],
 "metadata": {
  "kernelspec": {
   "display_name": "base",
   "language": "python",
   "name": "python3"
  },
  "language_info": {
   "codemirror_mode": {
    "name": "ipython",
    "version": 3
   },
   "file_extension": ".py",
   "mimetype": "text/x-python",
   "name": "python",
   "nbconvert_exporter": "python",
   "pygments_lexer": "ipython3",
   "version": "3.11.5"
  }
 },
 "nbformat": 4,
 "nbformat_minor": 2
}
